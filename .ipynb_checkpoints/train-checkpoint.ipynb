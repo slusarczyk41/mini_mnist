{
 "cells": [
  {
   "cell_type": "markdown",
   "metadata": {},
   "source": [
    "## Data preparation"
   ]
  },
  {
   "cell_type": "code",
   "execution_count": 1,
   "metadata": {},
   "outputs": [],
   "source": [
    "from mnist import MNIST\n",
    "import numpy as np\n",
    "import pandas as pd\n",
    "import matplotlib.pyplot as plt"
   ]
  },
  {
   "cell_type": "code",
   "execution_count": 2,
   "metadata": {},
   "outputs": [],
   "source": [
    "mndata = MNIST('data')"
   ]
  },
  {
   "cell_type": "code",
   "execution_count": 3,
   "metadata": {},
   "outputs": [],
   "source": [
    "train_x, train_y = mndata.load_training()\n",
    "test_x, test_y = mndata.load_testing()"
   ]
  },
  {
   "cell_type": "code",
   "execution_count": 4,
   "metadata": {},
   "outputs": [
    {
     "data": {
      "text/plain": [
       "{0, 1, 2, 3, 4, 5, 6, 7, 8, 9}"
      ]
     },
     "execution_count": 4,
     "metadata": {},
     "output_type": "execute_result"
    }
   ],
   "source": [
    "set(train_y)"
   ]
  },
  {
   "cell_type": "code",
   "execution_count": 5,
   "metadata": {},
   "outputs": [],
   "source": [
    "def normalize(data):\n",
    "    return (np.array(data) - 128) / 128"
   ]
  },
  {
   "cell_type": "code",
   "execution_count": 6,
   "metadata": {},
   "outputs": [],
   "source": [
    "train_x = normalize(train_x)\n",
    "test_x = normalize(test_x)"
   ]
  },
  {
   "cell_type": "code",
   "execution_count": 7,
   "metadata": {},
   "outputs": [],
   "source": [
    "def change_to_2d(data):\n",
    "    return data.reshape(data.shape[0], 28, 28, 1)"
   ]
  },
  {
   "cell_type": "code",
   "execution_count": 8,
   "metadata": {},
   "outputs": [],
   "source": [
    "train_x = change_to_2d(train_x)\n",
    "test_x = change_to_2d(test_x)"
   ]
  },
  {
   "cell_type": "code",
   "execution_count": 9,
   "metadata": {},
   "outputs": [],
   "source": [
    "def add_padding(data):\n",
    "    return np.array([np.pad(x, (1,1), 'constant', constant_values = -1) for x in data])"
   ]
  },
  {
   "cell_type": "code",
   "execution_count": 10,
   "metadata": {},
   "outputs": [],
   "source": [
    "train_x = add_padding(train_x)\n",
    "test_x = add_padding(test_x)"
   ]
  },
  {
   "cell_type": "code",
   "execution_count": 11,
   "metadata": {},
   "outputs": [],
   "source": [
    "def one_hot_encode(data):\n",
    "    a = np.array(data)\n",
    "    b = np.zeros((a.size, a.max()+1))\n",
    "    b[np.arange(a.size),a] = 1\n",
    "    return b"
   ]
  },
  {
   "cell_type": "code",
   "execution_count": 12,
   "metadata": {},
   "outputs": [],
   "source": [
    "train_y = one_hot_encode(train_y)\n",
    "test_y = one_hot_encode(test_y)"
   ]
  },
  {
   "cell_type": "code",
   "execution_count": 13,
   "metadata": {},
   "outputs": [
    {
     "name": "stdout",
     "output_type": "stream",
     "text": [
      "(60000, 30, 30, 3) (60000, 10)\n"
     ]
    }
   ],
   "source": [
    "print(train_x.shape, train_y.shape)"
   ]
  },
  {
   "cell_type": "code",
   "execution_count": 14,
   "metadata": {},
   "outputs": [
    {
     "name": "stdout",
     "output_type": "stream",
     "text": [
      "(10000, 30, 30, 3) (10000, 10)\n"
     ]
    }
   ],
   "source": [
    "print(test_x.shape, test_y.shape)"
   ]
  },
  {
   "cell_type": "markdown",
   "metadata": {},
   "source": [
    "## Model"
   ]
  },
  {
   "cell_type": "code",
   "execution_count": 15,
   "metadata": {},
   "outputs": [],
   "source": [
    "from tensorflow.keras import Model, Input\n",
    "from tensorflow.keras.layers import Dense, Conv2D, BatchNormalization, Flatten, MaxPooling2D\n",
    "from tensorflow.nn import relu, elu\n",
    "from tensorflow.keras.optimizers import RMSprop, Adam\n",
    "from tensorflow.losses import *\n",
    "from tensorflow.keras.callbacks import EarlyStopping\n",
    "from tensorflow.contrib.layers import xavier_initializer"
   ]
  },
  {
   "cell_type": "code",
   "execution_count": 16,
   "metadata": {},
   "outputs": [],
   "source": [
    "initializer = xavier_initializer()"
   ]
  },
  {
   "cell_type": "code",
   "execution_count": 17,
   "metadata": {},
   "outputs": [],
   "source": [
    "    def initialize_model(activation_f, if_maxpooling, metric, optimizer):\n",
    "        inputs = Input(shape = train_x.shape[1:])\n",
    "\n",
    "        conv2d_1 = Conv2D(\n",
    "            filters = 32,\n",
    "            kernel_size = (3,3),\n",
    "            strides = 1,\n",
    "            activation = activation_f,\n",
    "            kernel_initializer = initializer,\n",
    "        )(inputs)\n",
    "        batch_norm_1 = BatchNormalization()(conv2d_1)\n",
    "        if not if_maxpooling:\n",
    "            conv2d_2 = Conv2D(\n",
    "                filters = 8,\n",
    "                kernel_size = (3,3),\n",
    "                strides = 2,\n",
    "                activation = activation_f,\n",
    "                kernel_initializer = initializer,\n",
    "            )(batch_norm_1)\n",
    "            batch_norm_2 = BatchNormalization()(conv2d_2)\n",
    "            flatten = Flatten()(batch_norm_2)\n",
    "        else:\n",
    "            conv2d_2 = Conv2D(\n",
    "                filters = 8,\n",
    "                kernel_size = (3,3),\n",
    "                strides = 1,\n",
    "                activation = activation_f,\n",
    "                kernel_initializer = initializer,\n",
    "            )(batch_norm_1)\n",
    "            batch_norm_2 = BatchNormalization()(conv2d_2)\n",
    "            maxpool_1 = MaxPooling2D(\n",
    "                pool_size = (3, 3),\n",
    "                strides = 2\n",
    "            )(batch_norm_2)\n",
    "            flatten = Flatten()(maxpool_1)\n",
    "\n",
    "        fully_connected_1 = Dense(\n",
    "            256,\n",
    "        )(flatten)\n",
    "        batch_norm_3 = BatchNormalization()(fully_connected_1)\n",
    "        fully_connected_2 = Dense(\n",
    "            64,\n",
    "            activation = activation_f\n",
    "        )(batch_norm_3)\n",
    "        batch_norm_4 = BatchNormalization()(fully_connected_2)\n",
    "\n",
    "        outputs = Dense(10)(batch_norm_4)\n",
    "\n",
    "        model = Model(\n",
    "            inputs = inputs,\n",
    "            outputs = outputs\n",
    "        )\n",
    "\n",
    "        if optimizer == RMSprop:\n",
    "            model.compile(\n",
    "                loss = mean_squared_error, # log_loss\n",
    "                optimizer = RMSprop(0.001),\n",
    "                metrics = [metric]\n",
    "            )\n",
    "        else:\n",
    "            model.compile(\n",
    "                loss = mean_squared_error, # log_loss\n",
    "                optimizer = Adam(0.001, 0.9, 0.999),\n",
    "                metrics = [metric]\n",
    "            )\n",
    "\n",
    "        return model"
   ]
  },
  {
   "cell_type": "code",
   "execution_count": 19,
   "metadata": {},
   "outputs": [
    {
     "name": "stderr",
     "output_type": "stream",
     "text": [
      "WARNING: Logging before flag parsing goes to stderr.\n",
      "W0814 12:36:07.652720 139697052030720 deprecation.py:506] From /usr/local/lib/python3.5/dist-packages/tensorflow/python/ops/init_ops.py:1251: calling VarianceScaling.__init__ (from tensorflow.python.ops.init_ops) with dtype is deprecated and will be removed in a future version.\n",
      "Instructions for updating:\n",
      "Call initializer instance with the dtype argument instead of passing it to the constructor\n",
      "W0814 12:36:07.863226 139697052030720 deprecation.py:323] From /usr/local/lib/python3.5/dist-packages/tensorflow/python/ops/losses/losses_impl.py:121: add_dispatch_support.<locals>.wrapper (from tensorflow.python.ops.array_ops) is deprecated and will be removed in a future version.\n",
      "Instructions for updating:\n",
      "Use tf.where in 2.0, which has the same broadcast rule as np.where\n"
     ]
    }
   ],
   "source": [
    "metric = 'accuracy'\n",
    "model = initialize_model(elu, True, metric, RMSprop)"
   ]
  },
  {
   "cell_type": "code",
   "execution_count": 20,
   "metadata": {},
   "outputs": [
    {
     "name": "stdout",
     "output_type": "stream",
     "text": [
      "Model: \"model\"\n",
      "_________________________________________________________________\n",
      "Layer (type)                 Output Shape              Param #   \n",
      "=================================================================\n",
      "input_1 (InputLayer)         [(None, 30, 30, 3)]       0         \n",
      "_________________________________________________________________\n",
      "conv2d (Conv2D)              (None, 28, 28, 32)        896       \n",
      "_________________________________________________________________\n",
      "batch_normalization (BatchNo (None, 28, 28, 32)        128       \n",
      "_________________________________________________________________\n",
      "conv2d_1 (Conv2D)            (None, 26, 26, 8)         2312      \n",
      "_________________________________________________________________\n",
      "batch_normalization_1 (Batch (None, 26, 26, 8)         32        \n",
      "_________________________________________________________________\n",
      "max_pooling2d (MaxPooling2D) (None, 12, 12, 8)         0         \n",
      "_________________________________________________________________\n",
      "flatten (Flatten)            (None, 1152)              0         \n",
      "_________________________________________________________________\n",
      "dense (Dense)                (None, 256)               295168    \n",
      "_________________________________________________________________\n",
      "batch_normalization_2 (Batch (None, 256)               1024      \n",
      "_________________________________________________________________\n",
      "dense_1 (Dense)              (None, 64)                16448     \n",
      "_________________________________________________________________\n",
      "batch_normalization_3 (Batch (None, 64)                256       \n",
      "_________________________________________________________________\n",
      "dense_2 (Dense)              (None, 10)                650       \n",
      "=================================================================\n",
      "Total params: 316,914\n",
      "Trainable params: 316,194\n",
      "Non-trainable params: 720\n",
      "_________________________________________________________________\n"
     ]
    }
   ],
   "source": [
    "model.summary()"
   ]
  },
  {
   "cell_type": "code",
   "execution_count": 21,
   "metadata": {},
   "outputs": [
    {
     "data": {
      "text/plain": [
       "array([[ 0.47337604,  0.41172054, -0.9077127 ,  0.32523066, -0.50798476,\n",
       "         0.02040365,  0.34365672,  0.5439178 , -0.03887302,  0.62110186],\n",
       "       [ 0.3366934 , -0.00316644, -1.0535611 ,  0.9356792 ,  0.06846376,\n",
       "         0.5025847 ,  0.15332343,  0.40786284,  0.07333498,  0.366526  ],\n",
       "       [ 1.1479437 ,  0.53493   , -1.0955286 ,  0.3334712 , -0.4620191 ,\n",
       "         0.00872223,  0.26178268,  0.6620734 , -0.42056897,  0.6678951 ]],\n",
       "      dtype=float32)"
      ]
     },
     "execution_count": 21,
     "metadata": {},
     "output_type": "execute_result"
    }
   ],
   "source": [
    "model.predict(test_x[:3])"
   ]
  },
  {
   "cell_type": "code",
   "execution_count": 22,
   "metadata": {},
   "outputs": [],
   "source": [
    "early_stop = EarlyStopping(monitor='val_acc', patience=10)"
   ]
  },
  {
   "cell_type": "code",
   "execution_count": 23,
   "metadata": {},
   "outputs": [],
   "source": [
    "from itertools import product\n",
    "models_list = list(product([relu, elu], [True, False], [Adam, RMSprop]))"
   ]
  },
  {
   "cell_type": "code",
   "execution_count": null,
   "metadata": {},
   "outputs": [],
   "source": [
    "results = []\n",
    "for i, model_params in enumerate(models_list):\n",
    "    model = initialize_model(model_params[0], model_params[1], metric, model_params[2])\n",
    "    history = model.fit(\n",
    "        train_x, train_y,\n",
    "        epochs = 30,\n",
    "        validation_split = 0.2, \n",
    "        verbose = 0,\n",
    "        callbacks = [early_stop],\n",
    "    )\n",
    "    results.append(history)\n",
    "    pd.DataFrame(history.history).to_csv('history_'+str(i))\n",
    "    pd.DataFrame([np.where(x == max(x))[0][0] for x in model.predict(test_x)]).to_csv('results_'+str(i))\n",
    "    model.save('model_'+str(i))"
   ]
  },
  {
   "cell_type": "code",
   "execution_count": null,
   "metadata": {},
   "outputs": [],
   "source": [
    "def plot_history(history):\n",
    "    hist = pd.DataFrame(history.history)\n",
    "    hist['epoch'] = history.epoch\n",
    "\n",
    "    plt.figure()\n",
    "    plt.xlabel('Epoch')\n",
    "    plt.plot(hist['epoch'], hist['acc'],\n",
    "           label='Train Error')\n",
    "    plt.plot(hist['epoch'], hist['val_acc'],\n",
    "           label = 'Val Error')\n",
    "    m = max(max([history.history['acc'] + history.history['val_acc']]))\n",
    "    plt.ylim([0,m * 1.1])\n",
    "    plt.legend()"
   ]
  },
  {
   "cell_type": "code",
   "execution_count": null,
   "metadata": {},
   "outputs": [],
   "source": [
    "plot_history(history)"
   ]
  },
  {
   "cell_type": "code",
   "execution_count": null,
   "metadata": {},
   "outputs": [],
   "source": [
    "model.evaluate(test_x, test_y, verbose=0)[1]"
   ]
  },
  {
   "cell_type": "code",
   "execution_count": null,
   "metadata": {},
   "outputs": [],
   "source": [
    "real = np.where(test_y == np.max(test_y))[1]"
   ]
  },
  {
   "cell_type": "code",
   "execution_count": null,
   "metadata": {},
   "outputs": [],
   "source": [
    "pred = [np.where(x == max(x))[0][0] for x in model.predict(test_x)]"
   ]
  },
  {
   "cell_type": "code",
   "execution_count": null,
   "metadata": {},
   "outputs": [],
   "source": [
    "def backup_prev():\n",
    "    return {\n",
    "        'history': pd.DataFrame(history.history),\n",
    "        'eval': model.evaluate(test_x, test_y, verbose=0)[1]\n",
    "    }"
   ]
  },
  {
   "cell_type": "code",
   "execution_count": null,
   "metadata": {},
   "outputs": [],
   "source": [
    "#prev = backup_prev()"
   ]
  },
  {
   "cell_type": "code",
   "execution_count": null,
   "metadata": {},
   "outputs": [],
   "source": []
  }
 ],
 "metadata": {
  "kernelspec": {
   "display_name": "Python 3",
   "language": "python",
   "name": "python3"
  },
  "language_info": {
   "codemirror_mode": {
    "name": "ipython",
    "version": 3
   },
   "file_extension": ".py",
   "mimetype": "text/x-python",
   "name": "python",
   "nbconvert_exporter": "python",
   "pygments_lexer": "ipython3",
   "version": "3.7.2"
  }
 },
 "nbformat": 4,
 "nbformat_minor": 2
}
